{
 "cells": [
  {
   "cell_type": "markdown",
   "id": "35592e63-77cd-4dbb-8514-b3c478a56476",
   "metadata": {},
   "source": [
    "# Data Science Tools and Ecosystem"
   ]
  },
  {
   "cell_type": "markdown",
   "id": "6a2b5466-84bc-4777-a943-b278087672f0",
   "metadata": {},
   "source": [
    "In this notebook, Data Science Tools and Ecosystem are summarized."
   ]
  },
  {
   "cell_type": "markdown",
   "id": "e5cc5578-411a-4148-b9a6-fac5399108a1",
   "metadata": {},
   "source": [
    "**Objectives:**\n",
    "\n",
    "- List popular languages for Data Science.\n",
    "- Identify key libraries used by data scientists.\n",
    "- Demonstrate basic Python arithmetic operations.\n",
    "- Understand how to create tables and lists in markdown.\n",
    "- Convert units, like minutes to hours, using Python code."
   ]
  },
  {
   "cell_type": "markdown",
   "id": "c364df95-729a-46d7-aece-0cc598ee11b3",
   "metadata": {},
   "source": [
    "Some of the popular languages that Data Scientists use are:\n",
    "1. Python\n",
    "2. SQL\n",
    "3. R"
   ]
  },
  {
   "cell_type": "markdown",
   "id": "665b7f89-7cd8-4ffb-ab44-7ddaa7d8fa78",
   "metadata": {},
   "source": [
    "Some of the commonly used libraries used by Data Scientists include:\n",
    "1. pandas - for data manipulation and analysis.\n",
    "2. NumPy - for numerical computing with Python.\n",
    "3. matplotlib - for creating static, interactive, and animated visualizations in Python.\n",
    "4. scikit-learn - for machine learning and predictive data analysis."
   ]
  },
  {
   "cell_type": "markdown",
   "id": "5968be87-1dd4-40ec-918b-57e9820dedd8",
   "metadata": {},
   "source": [
    "| Data Science Tools |\n",
    "|--------------------|\n",
    "| Jupyter Notebook   |\n",
    "| RStudio            |\n",
    "| Apache Zeppelin    |"
   ]
  },
  {
   "cell_type": "markdown",
   "id": "2c73a047-2002-473d-8ff8-f538e485c7b8",
   "metadata": {},
   "source": [
    "### Below are a few examples of evaluating arithmetic expressions in Python"
   ]
  },
  {
   "cell_type": "code",
   "execution_count": 3,
   "id": "fa7677b1-d42a-4161-a3f6-4843511a4eb6",
   "metadata": {
    "tags": []
   },
   "outputs": [
    {
     "data": {
      "text/plain": [
       "17"
      ]
     },
     "execution_count": 3,
     "metadata": {},
     "output_type": "execute_result"
    }
   ],
   "source": [
    "#  This a simple arithmetic expression to mutiply then add integers\n",
    "(3*4)+5"
   ]
  },
  {
   "cell_type": "code",
   "execution_count": 5,
   "id": "b380bf52-b1d1-4e11-b299-fa7b9ebd5073",
   "metadata": {
    "tags": []
   },
   "outputs": [
    {
     "data": {
      "text/plain": [
       "3.3333333333333335"
      ]
     },
     "execution_count": 5,
     "metadata": {},
     "output_type": "execute_result"
    }
   ],
   "source": [
    "# This will convert 200 minutes to hours by dividing by 60\n",
    "hours = 200 / 60\n",
    "hours"
   ]
  },
  {
   "cell_type": "markdown",
   "id": "90212699-458a-4785-aa8f-912578768b44",
   "metadata": {},
   "source": [
    "## Author: \n",
    "Yaroslava Skokova"
   ]
  }
 ],
 "metadata": {
  "kernelspec": {
   "display_name": "Python",
   "language": "python",
   "name": "conda-env-python-py"
  },
  "language_info": {
   "codemirror_mode": {
    "name": "ipython",
    "version": 3
   },
   "file_extension": ".py",
   "mimetype": "text/x-python",
   "name": "python",
   "nbconvert_exporter": "python",
   "pygments_lexer": "ipython3",
   "version": "3.7.12"
  }
 },
 "nbformat": 4,
 "nbformat_minor": 5
}
